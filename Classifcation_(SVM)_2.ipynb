{
  "nbformat": 4,
  "nbformat_minor": 0,
  "metadata": {
    "colab": {
      "provenance": [],
      "collapsed_sections": []
    },
    "kernelspec": {
      "name": "python3",
      "display_name": "Python 3"
    },
    "language_info": {
      "name": "python"
    }
  },
  "cells": [
    {
      "cell_type": "code",
      "execution_count": 88,
      "metadata": {
        "colab": {
          "base_uri": "https://localhost:8080/"
        },
        "id": "Ol2ozyeKeBeC",
        "outputId": "c68ea3f5-b10f-41de-e10a-40dcb23fac81"
      },
      "outputs": [
        {
          "output_type": "stream",
          "name": "stdout",
          "text": [
            "Looking in indexes: https://pypi.org/simple, https://us-python.pkg.dev/colab-wheels/public/simple/\n",
            "Requirement already satisfied: composition_stats in /usr/local/lib/python3.7/dist-packages (2.0.0)\n",
            "Requirement already satisfied: numpy in /usr/local/lib/python3.7/dist-packages (from composition_stats) (1.21.6)\n",
            "Requirement already satisfied: scipy in /usr/local/lib/python3.7/dist-packages (from composition_stats) (1.7.3)\n"
          ]
        }
      ],
      "source": [
        "pip install composition_stats"
      ]
    },
    {
      "cell_type": "markdown",
      "source": [
        "CODA set\n",
        "\n"
      ],
      "metadata": {
        "id": "TaYP9fCjVVQJ"
      }
    },
    {
      "cell_type": "code",
      "source": [
        "#create dataset  for ilr transformation\n",
        "import numpy as np\n",
        "import composition_stats as coda\n",
        "import matplotlib.pyplot as plt\n",
        "from sklearn import svm, metrics\n",
        "from sklearn.metrics import accuracy_score\n",
        "from sklearn.model_selection import train_test_split\n",
        "a0 = np.array([10, 29, 20]) \n",
        "a1 = np.array([50, 41, 91])\n",
        "X0 = np.random.dirichlet(a0, 10000)\n",
        "\n",
        "X1 = np.random.dirichlet(a1, 100)\n",
        "\n",
        "X_org = np.concatenate((X0, X1), axis = 0)\n",
        "#New transformed data using ilr transformation method\n",
        "X_ilr = coda.ilr(X_org)\n",
        "X_clr = coda.clr(X_org)\n",
        "y = np.concatenate((np.ones(10000), -np.ones(100)))\n",
        "\n"
      ],
      "metadata": {
        "id": "Me-YgIeUVcjP"
      },
      "execution_count": 89,
      "outputs": []
    },
    {
      "cell_type": "markdown",
      "source": [
        "**With ilr transformation:**"
      ],
      "metadata": {
        "id": "GANUoX4MW-Pd"
      }
    },
    {
      "cell_type": "code",
      "source": [
        "X_train1, X_test1, y_train1, y_test1 = train_test_split(X_ilr, y, random_state = 0, test_size= 0.3)\n",
        "clf1 = svm.SVC(kernel = \"linear\", C = 1).fit(X_train1, y_train1)\n",
        "y_pred1 = clf1.predict(X_test1)"
      ],
      "metadata": {
        "id": "TikIaoE6VoF_"
      },
      "execution_count": 90,
      "outputs": []
    },
    {
      "cell_type": "code",
      "source": [
        "print(\"Accuracy of ilr_model:\", accuracy_score(y_test1, y_pred1))\n",
        "print(\"Precision of ilr_model:\", metrics.precision_score(y_test1, y_pred1))\n",
        "print(\"Recall of ilr_model:\", metrics.recall_score(y_test1, y_pred1))"
      ],
      "metadata": {
        "colab": {
          "base_uri": "https://localhost:8080/"
        },
        "id": "6toOPFf1XXFA",
        "outputId": "a056b73c-6c36-4b10-d989-e74011e6b025"
      },
      "execution_count": 91,
      "outputs": [
        {
          "output_type": "stream",
          "name": "stdout",
          "text": [
            "Accuracy of ilr_model: 0.9993399339933994\n",
            "Precision of ilr_model: 0.9996664442961974\n",
            "Recall of ilr_model: 0.9996664442961974\n"
          ]
        }
      ]
    },
    {
      "cell_type": "markdown",
      "source": [
        "**With clr transformation:**"
      ],
      "metadata": {
        "id": "6qCINetnYgtQ"
      }
    },
    {
      "cell_type": "code",
      "source": [
        "X_train2, X_test2, y_train2, y_test2 = train_test_split(X_clr, y, random_state = 0, test_size= 0.3)\n",
        "clf2 = svm.SVC(kernel = \"linear\", C = 1).fit(X_train2, y_train2)\n",
        "y_pred2 = clf2.predict(X_test2)"
      ],
      "metadata": {
        "id": "bo_jVjm7Yl_7"
      },
      "execution_count": 92,
      "outputs": []
    },
    {
      "cell_type": "code",
      "source": [
        "print(\"Accuracy of Clr_model:\", accuracy_score(y_test2, y_pred2))\n",
        "print(\"Precision of Clr_model:\", metrics.precision_score(y_test2, y_pred2))\n",
        "print(\"Recall of Clr_model:\", metrics.recall_score(y_test2, y_pred2))"
      ],
      "metadata": {
        "colab": {
          "base_uri": "https://localhost:8080/"
        },
        "id": "s1lbYXEpYwFX",
        "outputId": "15ad0aa6-81a1-4789-ec43-fc741a20f2c5"
      },
      "execution_count": 93,
      "outputs": [
        {
          "output_type": "stream",
          "name": "stdout",
          "text": [
            "Accuracy of Clr_model: 0.9993399339933994\n",
            "Precision of Clr_model: 0.9996664442961974\n",
            "Recall of Clr_model: 0.9996664442961974\n"
          ]
        }
      ]
    }
  ]
}
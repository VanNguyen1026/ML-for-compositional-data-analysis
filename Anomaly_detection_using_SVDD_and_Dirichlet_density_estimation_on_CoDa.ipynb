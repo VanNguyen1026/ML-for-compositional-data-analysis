{
  "nbformat": 4,
  "nbformat_minor": 0,
  "metadata": {
    "colab": {
      "name": "(2 vars) Anomaly detection using SVDD and Dirichlet density estimation on CoDa(Upload).ipynb",
      "provenance": [],
      "collapsed_sections": []
    },
    "kernelspec": {
      "name": "python3",
      "display_name": "Python 3"
    },
    "language_info": {
      "name": "python"
    }
  },
  "cells": [
    {
      "cell_type": "code",
      "metadata": {
        "colab": {
          "base_uri": "https://localhost:8080/"
        },
        "id": "FAuR9M4pyi_8",
        "outputId": "1235a704-60b7-42c6-e111-9b2dc6303566"
      },
      "source": [
        "!git clone https://github.com/iqiukp/SVDD.git"
      ],
      "execution_count": null,
      "outputs": [
        {
          "output_type": "stream",
          "name": "stdout",
          "text": [
            "Cloning into 'SVDD'...\n",
            "remote: Enumerating objects: 67, done.\u001b[K\n",
            "remote: Counting objects: 100% (67/67), done.\u001b[K\n",
            "remote: Compressing objects: 100% (53/53), done.\u001b[K\n",
            "remote: Total 67 (delta 16), reused 57 (delta 11), pack-reused 0\u001b[K\n",
            "Unpacking objects: 100% (67/67), done.\n"
          ]
        }
      ]
    },
    {
      "cell_type": "code",
      "metadata": {
        "colab": {
          "base_uri": "https://localhost:8080/"
        },
        "id": "cFj_fQexzNDi",
        "outputId": "01483e25-d30a-4a93-c7e6-110df630f7e0"
      },
      "source": [
        "ls"
      ],
      "execution_count": null,
      "outputs": [
        {
          "output_type": "stream",
          "name": "stdout",
          "text": [
            "\u001b[0m\u001b[01;34msample_data\u001b[0m/  \u001b[01;34mSVDD\u001b[0m/\n"
          ]
        }
      ]
    },
    {
      "cell_type": "code",
      "metadata": {
        "colab": {
          "base_uri": "https://localhost:8080/"
        },
        "id": "6zO-SQVdRweq",
        "outputId": "fb1ca9aa-d08d-4976-a2d0-b2acb789d14c"
      },
      "source": [
        "cd SVDD"
      ],
      "execution_count": null,
      "outputs": [
        {
          "output_type": "stream",
          "name": "stdout",
          "text": [
            "/content/SVDD\n"
          ]
        }
      ]
    },
    {
      "cell_type": "code",
      "metadata": {
        "colab": {
          "base_uri": "https://localhost:8080/"
        },
        "id": "7HdvdlKyQORK",
        "outputId": "85e4431c-b9dc-4861-9da7-6580d6292d7b"
      },
      "source": [
        "pip install dirichlet"
      ],
      "execution_count": null,
      "outputs": [
        {
          "output_type": "stream",
          "name": "stdout",
          "text": [
            "Collecting dirichlet\n",
            "  Downloading dirichlet-0.9-py3-none-any.whl (7.3 kB)\n",
            "Requirement already satisfied: numpy>=1.18.1 in /usr/local/lib/python3.7/dist-packages (from dirichlet) (1.19.5)\n",
            "Requirement already satisfied: matplotlib>=3.2.0 in /usr/local/lib/python3.7/dist-packages (from dirichlet) (3.2.2)\n",
            "Requirement already satisfied: scipy>=1.4.1 in /usr/local/lib/python3.7/dist-packages (from dirichlet) (1.4.1)\n",
            "Requirement already satisfied: pyparsing!=2.0.4,!=2.1.2,!=2.1.6,>=2.0.1 in /usr/local/lib/python3.7/dist-packages (from matplotlib>=3.2.0->dirichlet) (2.4.7)\n",
            "Requirement already satisfied: kiwisolver>=1.0.1 in /usr/local/lib/python3.7/dist-packages (from matplotlib>=3.2.0->dirichlet) (1.3.2)\n",
            "Requirement already satisfied: python-dateutil>=2.1 in /usr/local/lib/python3.7/dist-packages (from matplotlib>=3.2.0->dirichlet) (2.8.2)\n",
            "Requirement already satisfied: cycler>=0.10 in /usr/local/lib/python3.7/dist-packages (from matplotlib>=3.2.0->dirichlet) (0.10.0)\n",
            "Requirement already satisfied: six in /usr/local/lib/python3.7/dist-packages (from cycler>=0.10->matplotlib>=3.2.0->dirichlet) (1.15.0)\n",
            "Installing collected packages: dirichlet\n",
            "Successfully installed dirichlet-0.9\n"
          ]
        }
      ]
    },
    {
      "cell_type": "code",
      "metadata": {
        "id": "o415dtR7zixW",
        "colab": {
          "base_uri": "https://localhost:8080/"
        },
        "outputId": "67ca0ad1-5c54-444c-b92c-da0f921d964e"
      },
      "source": [
        "import numpy as np\n",
        "import dirichlet\n",
        "from scipy.stats import dirichlet as Dir_spicy\n",
        "a = [[10,1, 30], [4,9,1]]\n",
        "\n",
        "# 1000 normal training data, 2 CoDa features \n",
        "X_train0 = np.random.dirichlet(a[0], 1000)\n",
        "X_train1 = np.random.dirichlet(a[1], 1000)\n",
        "y_train = np.ones(X_train0.shape[0]).reshape(X_train0.shape[0], 1)\n",
        "\n",
        "# 100 normal test data, 2 CoDa features  \n",
        "X_test0N = np.random.dirichlet(a[0], 100) \n",
        "X_test1N = np.random.dirichlet(a[1], 100) \n",
        "y_test_normal = np.ones(X_test0N.shape[0]).reshape(X_test0N.shape[0], 1)\n",
        "\n",
        "\n",
        "# 1000 normal test data, 2 CoDa features\n",
        "b = [[50,100, 20], [44,90,1]]\n",
        "X_test0A = np.random.dirichlet(b[0], 10) \n",
        "X_test1A = np.random.dirichlet(b[1], 10)\n",
        "y_test_anomal = -1 * np.ones(X_test0A.shape[0]).reshape(X_test0A.shape[0], 1)\n",
        "\n",
        "#X_test = np.concatenate((X_test0, X_test1), axis=0)\n",
        "y_test = np.concatenate((y_test_normal, y_test_anomal), axis=0)\n",
        "y_test.shape"
      ],
      "execution_count": null,
      "outputs": [
        {
          "output_type": "execute_result",
          "data": {
            "text/plain": [
              "(110, 1)"
            ]
          },
          "metadata": {},
          "execution_count": 56
        }
      ]
    },
    {
      "cell_type": "markdown",
      "metadata": {
        "id": "x-9Futw3PJBJ"
      },
      "source": [
        "Transform data using Dirichlet fearture"
      ]
    },
    {
      "cell_type": "code",
      "metadata": {
        "id": "e9taBaONPLSP"
      },
      "source": [
        "def D_density(A, alpha): # transform compositional data to its estimated Diriclet density\n",
        "    N = np.zeros(A.shape[0]).reshape(A.shape[0], 1)\n",
        "    for i in range(A.shape[0]):\n",
        "        N[i] = Dir_spicy.pdf(A[i], alpha)\n",
        "    return N"
      ],
      "execution_count": null,
      "outputs": []
    },
    {
      "cell_type": "code",
      "metadata": {
        "id": "HgJBgiu5FRWd"
      },
      "source": [
        "# transform X_train\n",
        "X_train0_new = D_density(X_train0, a[0])\n",
        "X_train1_new = D_density(X_train1, a[1])\n",
        "X_train_New = np.concatenate((X_train0_new, X_train1_new), axis = 1)"
      ],
      "execution_count": null,
      "outputs": []
    },
    {
      "cell_type": "code",
      "metadata": {
        "colab": {
          "base_uri": "https://localhost:8080/"
        },
        "id": "jK7feWSYLAm-",
        "outputId": "20a402c7-93f6-4dd2-b6d8-30e6433beb32"
      },
      "source": [
        "# transform X_test \n",
        "X_test0N_new = D_density(X_test0N, a[0])\n",
        "X_test1N_new = D_density(X_test1N, a[1])\n",
        "X_test0A_new = D_density(X_test0A, b[0])\n",
        "X_test1A_new = D_density(X_test1A, b[1])\n",
        "X_test0_new = np.concatenate((X_test0N_new, X_test0A_new), axis = 0)\n",
        "X_test1_new = np.concatenate((X_test1N_new, X_test1A_new), axis = 0)\n",
        "\n",
        "X_test_New = np.concatenate((X_test0_new, X_test1_new), axis = 1)\n",
        "X_test_New.shape"
      ],
      "execution_count": null,
      "outputs": [
        {
          "output_type": "execute_result",
          "data": {
            "text/plain": [
              "(110, 2)"
            ]
          },
          "metadata": {},
          "execution_count": 59
        }
      ]
    },
    {
      "cell_type": "code",
      "metadata": {
        "id": "pBw_43JwgJts",
        "colab": {
          "base_uri": "https://localhost:8080/",
          "height": 789
        },
        "outputId": "0c4ff449-dfbd-4550-e251-43e89712ad0f"
      },
      "source": [
        "# -*- coding: utf-8 -*-\n",
        "\n",
        "import sys\n",
        "sys.path.append(\"..\")\n",
        "from src.svdd import SVDD\n",
        "from src.visualize import Visualization as draw\n",
        "\n",
        "\n",
        "trainData=X_train_New\n",
        "testData=X_test_New\n",
        "trainLabel=y_train\n",
        "testLabel = y_test\n",
        "\n",
        "\n",
        "# kernel list\n",
        "kernelList = {\"1\": {\"type\": 'linear', \"offset\": 0},\n",
        "              #\"2\": {\"type\": 'gauss', \"width\": 1/24},\n",
        "              #\"3\": {\"type\": 'ploy', \"degree\": 3, \"offset\": 0},\n",
        "              #\"4\": {\"type\": 'tanh', \"gamma\": 1e-4, \"offset\": 0},\n",
        "              #\"5\": {\"type\": 'lapl', \"width\": 1/12}\n",
        "              }\n",
        "\n",
        "\n",
        "for i in range(len(kernelList)):\n",
        "\n",
        "    # set SVDD parameters\n",
        "    parameters = {\"positive penalty\": 0.9,\n",
        "                  \"negative penalty\": 0.8,\n",
        "                  \"kernel\": kernelList.get(str(i+1)),\n",
        "                  \"option\": {\"display\": 'on'}}\n",
        "    \n",
        "    # construct an SVDD model\n",
        "    svdd = SVDD(parameters)\n",
        "    \n",
        "    # train SVDD model\n",
        "    svdd.train(trainData, trainLabel)\n",
        "      \n",
        "    # test SVDD model\n",
        "    distance, accuracy = svdd.test(testData, testLabel)\n",
        "    \n",
        "    # visualize the results\n",
        "    # draw.testResult(svdd, distance)\n",
        "    # draw.testROC(testLabel, distance)\n",
        "    #draw.boundary(svdd, trainData, trainLabel)\n",
        "    draw.testResult(svdd, distance)\n"
      ],
      "execution_count": null,
      "outputs": [
        {
          "output_type": "stream",
          "name": "stdout",
          "text": [
            "\n",
            "\n",
            "*** SVDD model training finished ***\n",
            "\n",
            "iter             = 17\n",
            "time cost        = 2.4973 s\n",
            "obj              = -13639.9007\n",
            "pData            = 100.0000 %\n",
            "nData            = 0.0000 %\n",
            "nSVs             = 2\n",
            "radio of nSVs    = 0.2000 %\n",
            "accuracy         = 99.9000 %\n",
            "\n",
            "\n",
            "\n",
            "\n",
            "*** SVDD model test finished ***\n",
            "\n",
            "time cost        = 0.0026 s\n",
            "accuracy         = 100.0000 %\n",
            "\n",
            "\n"
          ]
        },
        {
          "output_type": "display_data",
          "data": {
            "image/png": "[encoded data removed]",
            "text/plain": [
              "<Figure size 720x432 with 1 Axes>"
            ]
          },
          "metadata": {
            "needs_background": "light"
          }
        }
      ]
    }
  ]
}